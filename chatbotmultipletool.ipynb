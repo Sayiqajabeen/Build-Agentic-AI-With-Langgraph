{
 "cells": [
  {
   "cell_type": "code",
   "execution_count": 1,
   "id": "5d126e07",
   "metadata": {},
   "outputs": [],
   "source": [
    "#%pip install langchain_coummunity"
   ]
  },
  {
   "cell_type": "code",
   "execution_count": 2,
   "id": "eb794124",
   "metadata": {},
   "outputs": [],
   "source": [
    "\n",
    "from langchain_community.tools import ArxivQueryRun, WikipediaQueryRun\n",
    "from langchain_community.utilities import WikipediaAPIWrapper, ArxivAPIWrapper"
   ]
  },
  {
   "cell_type": "code",
   "execution_count": 3,
   "id": "d322ff7d",
   "metadata": {},
   "outputs": [
    {
     "name": "stdout",
     "output_type": "stream",
     "text": [
      "arxiv\n"
     ]
    }
   ],
   "source": [
    "api_wrapper_arxiv=ArxivAPIWrapper(top_k_results=2,doc_content_chars_max=500)\n",
    "arxiv=ArxivQueryRun(api_wrapper=api_wrapper_arxiv, description=\"Query arxiv papers\")\n",
    "print(arxiv.name)"
   ]
  },
  {
   "cell_type": "code",
   "execution_count": 4,
   "id": "a64748ed",
   "metadata": {},
   "outputs": [
    {
     "data": {
      "text/plain": [
       "\"Published: 2024-07-22\\nTitle: Attention Is All You Need But You Don't Need All Of It For Inference of Large Language Models\\nAuthors: Georgy Tyukin, Gbetondji J-S Dovonon, Jean Kaddour, Pasquale Minervini\\nSummary: The inference demand for LLMs has skyrocketed in recent months, and serving\\nmodels with low latencies remains challenging due to the quadratic input length\\ncomplexity of the attention layers. In this work, we investigate the effect of\\ndropping MLP and attention layers at inference time o\""
      ]
     },
     "execution_count": 4,
     "metadata": {},
     "output_type": "execute_result"
    }
   ],
   "source": [
    "arxiv.invoke(\"Attention is all you need\")"
   ]
  },
  {
   "cell_type": "code",
   "execution_count": 5,
   "id": "636a8168",
   "metadata": {},
   "outputs": [
    {
     "name": "stdout",
     "output_type": "stream",
     "text": [
      "wikipedia\n"
     ]
    }
   ],
   "source": [
    "api_wrapper_wiki=WikipediaAPIWrapper(top_k_results=1,doc_content_chars_max=500)\n",
    "wiki=WikipediaQueryRun(api_wrapper=api_wrapper_wiki)\n",
    "print(wiki.name)"
   ]
  },
  {
   "cell_type": "code",
   "execution_count": 6,
   "id": "d39094ab",
   "metadata": {},
   "outputs": [
    {
     "data": {
      "text/plain": [
       "'Published: 2023-05-23\\nTitle: Fast and energy-efficient non-volatile III-V-on-silicon photonic phase shifter based on memristors\\nAuthors: Zhuoran Fang, Bassem Tossoun, Antoine Descos, Di Liang, Xue Huang, Geza Kurczveil, Arka Majumdar, Raymond G. Beausoleil\\nSummary: Silicon photonics has evolved from lab research to commercial products in the\\npast decade as it plays an increasingly crucial role in data communication for\\nnext-generation data centers and high performance computing1. Recently,\\nprogr'"
      ]
     },
     "execution_count": 6,
     "metadata": {},
     "output_type": "execute_result"
    }
   ],
   "source": [
    "arxiv.invoke(\"What is the latest research on quantum computing?\")"
   ]
  },
  {
   "cell_type": "code",
   "execution_count": 7,
   "id": "dcb4a3e0",
   "metadata": {},
   "outputs": [],
   "source": [
    "# api_wrapper_wikipedia=WikipediaAPIWrapper(top_k_results=5,doc_content_chars_max=500)\n",
    "# wikipedia=WikipediaQueryRun(api_wrapper=api_wrapper_wikipedia)\n",
    "# print(wikipedia.name)"
   ]
  },
  {
   "cell_type": "code",
   "execution_count": 8,
   "id": "cc58ce40",
   "metadata": {},
   "outputs": [],
   "source": [
    "from dotenv import load_dotenv\n",
    "import os\n",
    "load_dotenv()\n",
    "\n",
    "os.environ[\"TAVILY_API_KEY\"] = os.getenv(\"TAVILY_API_KEY\")\n",
    "os.environ[\"GROQ_API_KEY\"] = os.getenv(\"GROQ_API_KEY\")"
   ]
  },
  {
   "cell_type": "code",
   "execution_count": 9,
   "id": "53414098",
   "metadata": {},
   "outputs": [],
   "source": [
    "##Tavily search tools\n",
    "from langchain_community.tools.tavily_search import TavilySearchResults\n",
    "tavily = TavilySearchResults()\n"
   ]
  },
  {
   "cell_type": "code",
   "execution_count": 10,
   "id": "f1d1e509",
   "metadata": {},
   "outputs": [
    {
     "data": {
      "text/plain": [
       "[{'title': 'Artificial Intelligence - Latest AI News and Analysis - WSJ.com',\n",
       "  'url': 'https://www.wsj.com/tech/ai',\n",
       "  'content': 'The latest artificial intelligence news coverage focusing on the technology, tools and the companies building AI technology.',\n",
       "  'score': 0.6829338},\n",
       " {'title': 'The Latest AI and Machine Learning News - Future Tools',\n",
       "  'url': 'https://www.futuretools.io/news',\n",
       "  'content': 'The latest news, updated daily, from the world of artificial intelligence, machine learning, and future tech.',\n",
       "  'score': 0.6599319},\n",
       " {'title': 'Artificial intelligence - NBC News',\n",
       "  'url': 'https://www.nbcnews.com/artificial-intelligence',\n",
       "  'content': \"Profile\\n\\nSections\\n\\nLocal\\n\\ntv\\n\\nFeatured\\n\\nMore From NBC\\n\\nFollow NBC News\\n\\nnews Alerts\\n\\nThere are no new alerts at this time\\n\\nARTIFICIAL INTELLIGENCE\\n\\nThe latest news and top stories on artificial intelligence, including ChatGPT, AI Chatbot and Bard.\\n\\nJosh Gottheimer uses AI in anti-Trump ad for the New Jersey governor's race\\n\\nChina's robots race against humans — and their U.S. counterparts\\n\\nAI NEWS\\n\\nArtificial intelligence [...] Nightly News\\n\\n03:15\\n\\nChristie's begins AI art auction amid backlash\\n\\nNBC News NOW\\n\\n02:16\\n\\nVance says U.S. will be the ‘gold standard’ of AI technology\\n\\n03:36\\n\\nAI startup DeepSeek causes buzz in China but draws global scrutiny over censorship and security\\n\\nNBC News NOW\\n\\n02:03\\n\\nA.I. leaders say China may have copied U.S. technology\\n\\nNightly News\\n\\n08:23\\n\\nNew Chinese A.I. tool 'DeepSeek' competes with American models\\n\\nNBC News NOW\\n\\nMORE AI NEWS [...] OpenAI funding round could be cut by $10B if for-profit conversion doesn't occur by year-end\\n\\nElon Musk's AI startup acquires X in deal that values social media platform at $33 billion\\n\\nKicked out of Columbia, this student doesn't plan to stop trolling big tech with AI\\n\\nAI-generated Studio Ghibli memes are so popular they’re ‘melting’ ChatGPT\\n\\nTrump administration launching an AI tool for government use\\n\\nAI is turbocharging organized crime, E.U. police agency warns\",\n",
       "  'score': 0.6108487},\n",
       " {'title': 'Artificial Intelligence News - ScienceDaily',\n",
       "  'url': 'https://www.sciencedaily.com/news/computers_math/artificial_intelligence/',\n",
       "  'content': 'Artificial Intelligence News\\n\\nTop Headlines\\n\\nLatest Headlines\\n\\nEarlier Headlines\\n\\nThursday, April 3, 2025\\n\\nThursday, March 27, 2025\\n\\nWednesday, March 26, 2025\\n\\nTuesday, March 25, 2025\\n\\nWednesday, March 19, 2025\\n\\nTuesday, March 18, 2025\\n\\nMonday, March 17, 2025\\n\\nThursday, March 6, 2025\\n\\nWednesday, March 5, 2025\\n\\nTuesday, March 4, 2025\\n\\nWednesday, February 26, 2025\\n\\nTuesday, February 25, 2025\\n\\nFriday, February 21, 2025\\n\\nThursday, February 20, 2025\\n\\nWednesday, February 19, 2025 [...] Thursday, February 13, 2025\\n\\nMonday, February 10, 2025\\n\\nMonday, February 3, 2025\\n\\nWednesday, January 29, 2025\\n\\nTuesday, January 28, 2025\\n\\nMonday, January 27, 2025\\n\\nTuesday, January 21, 2025\\n\\nThursday, January 16, 2025\\n\\nWednesday, January 15, 2025\\n\\nTuesday, January 14, 2025\\n\\nThursday, January 9, 2025\\n\\nWednesday, January 8, 2025\\n\\nMonday, January 6, 2025\\n\\nThursday, January 2, 2025\\n\\nFriday, December 27, 2024\\n\\nThursday, December 26, 2024\\n\\nThursday, December 19, 2024\\n\\nWednesday, December 18, 2024 [...] Tuesday, December 17, 2024\\n\\nMonday, December 16, 2024\\n\\nTuesday, December 10, 2024\\n\\nMonday, December 9, 2024\\n\\nFriday, December 6, 2024\\n\\nWednesday, December 4, 2024\\n\\nMonday, December 2, 2024\\n\\nFriday, November 29, 2024\\n\\nTuesday, November 26, 2024\\n\\nMonday, November 25, 2024\\n\\nThursday, November 21, 2024\\n\\nWednesday, November 20, 2024\\n\\nTuesday, November 19, 2024\\n\\nMonday, November 18, 2024\\n\\nSaturday, November 16, 2024\\n\\nThursday, November 14, 2024\\n\\nWednesday, November 13, 2024',\n",
       "  'score': 0.5622973},\n",
       " {'title': 'AI News & Artificial Intelligence - TechCrunch',\n",
       "  'url': 'https://techcrunch.com/category/artificial-intelligence/',\n",
       "  'content': 'Speak at TechCrunch Disrupt 2025: Applications now open\\n\\nDropbox adds new features to Dash, its AI-powered search tool\\n\\nThis tool estimates how much electricity your chatbot messages consume\\n\\nAdobe wants to create a robots.txt-styled indicator for images used in AI training\\n\\nAdobe releases new Firefly image generation models and a redesigned Firefly web app\\n\\nWindsurf slashes prices as competition with Cursor heats up\\n\\nOpenAI seeks to make its upcoming ‘open’ AI model best-in-class [...] AI\\n\\nNews coverage on artificial intelligence and machine learning tech, the companies building them, and the ethical issues AI raises today. This encompasses generative AI, including large language models, text-to-image and text-to-video models; speech recognition and generation; and predictive analytics.\\n\\n\\n\\n\\n\\nFinal 7 days: Save $210 + 50% off a second ticket to TechCrunch Sessions: AI\\n\\nLightrun grabs $70M using AI to debug code in production\\n\\nEarly cancer detection startup Craif raises $22M [...] Topics\\n\\nLatest\\n\\nAI\\n\\nAmazon\\n\\nApps\\n\\nBiotech & Health\\n\\nClimate\\n\\nCloud Computing\\n\\nCommerce\\n\\nCrypto\\n\\nEnterprise\\n\\nEVs\\n\\nFintech\\n\\nFundraising\\n\\nGadgets\\n\\nGaming\\n\\nGoogle\\n\\nGovernment & Policy\\n\\nHardware\\n\\nInstagram\\n\\nLayoffs\\n\\nMedia & Entertainment\\n\\nMeta\\n\\nMicrosoft\\n\\nPrivacy\\n\\nRobotics\\n\\nSecurity\\n\\nSocial\\n\\nSpace\\n\\nStartups\\n\\nTikTok\\n\\nTransportation\\n\\nVenture\\n\\nMore from TechCrunch\\n\\nEvents\\n\\nStartup Battlefield\\n\\nStrictlyVC\\n\\nNewsletters\\n\\nPodcasts\\n\\nVideos\\n\\nPartner Content\\n\\nTechCrunch Brand Studio\\n\\nCrunchboard\\n\\nContact Us',\n",
       "  'score': 0.5444871}]"
      ]
     },
     "execution_count": 10,
     "metadata": {},
     "output_type": "execute_result"
    }
   ],
   "source": [
    "tavily.invoke(\"What is the latest news on AI tool?\")"
   ]
  },
  {
   "cell_type": "code",
   "execution_count": 11,
   "id": "6bfaa84c",
   "metadata": {},
   "outputs": [],
   "source": [
    "#Created 3 tools arxiv, wikipedia, and tavily \n",
    "#Now combining all 3 tools in List. So integrating the LLM \n",
    "tools = [arxiv, wiki, tavily]"
   ]
  },
  {
   "cell_type": "code",
   "execution_count": 12,
   "id": "a8bd7545",
   "metadata": {},
   "outputs": [],
   "source": [
    "from langchain_groq import ChatGroq\n",
    "llm=ChatGroq(model=\"qwen-qwq-32b\")"
   ]
  },
  {
   "cell_type": "code",
   "execution_count": 13,
   "id": "8d6da9ef",
   "metadata": {},
   "outputs": [
    {
     "data": {
      "text/plain": [
       "AIMessage(content='\\n<think>\\nOkay, the user is asking \"What is AI?\" So I need to explain AI in simple terms. Let me start by defining AI as a branch of computer science. I should mention that it\\'s about creating systems that can perform tasks that typically require human intelligence. Then, maybe break it down into key concepts like machine learning, deep learning, and neural networks. I should also touch on common applications like voice assistants, recommendation systems, and self-driving cars to make it relatable. Oh, right, the two main types: narrow or general AI. Wait, maybe I should explain the difference between narrow (like Siri) and general AI (which doesn\\'t exist yet). Also, important to mention how AI learns from data. Maybe include some examples of technologies involved, like natural language processing and computer vision. Should I also mention ethical considerations? The user might not have asked for that, but it\\'s part of the broader picture. Let me structure it step by step, starting with a definition, then explaining key technologies, applications, types, and maybe a note on current limitations and future possibilities. Keep it clear and avoid jargon as much as possible. Let me check if I missed anything important. Oh, maybe touch on how AI uses algorithms and data to make decisions. Yeah, that\\'s crucial. Alright, putting it all together in a coherent way without getting too technical.\\n</think>\\n\\n**Artificial Intelligence (AI)** refers to the development of computer systems capable of performing tasks that typically require human intelligence. These tasks include learning, reasoning, problem-solving, perception, and decision-making. AI systems achieve this by analyzing data, identifying patterns, and making decisions with minimal human intervention.\\n\\n---\\n\\n### **Key Concepts in AI**:\\n1. **Machine Learning (ML)**:\\n   - A subset of AI where systems learn from **data** to improve performance on a task over time.\\n   - Example: A spam filter learning to identify spam emails based on past data.\\n\\n2. **Deep Learning (DL)**:\\n   - A type of ML inspired by the human brain, using **neural networks** with multiple layers (hence \"deep\").\\n   - Example: Facial recognition systems that improve accuracy as they process more images.\\n\\n3. **Neural Networks**:\\n   - Computational models designed to simulate the way the human brain works, processing information through interconnected nodes.\\n\\n4. **Natural Language Processing (NLP)**:\\n   - Enables machines to understand and generate human language.\\n   - Example: Chatbots or voice assistants like Siri or Alexa.\\n\\n5. **Computer Vision**:\\n   - Allows machines to interpret and analyze visual data (e.g., images or videos).\\n   - Example: Self-driving cars detecting pedestrians or traffic signs.\\n\\n---\\n\\n### **Types of AI**:\\n- **Narrow (Weak) AI**:\\n  - Systems designed for **specific tasks**.\\n  - *Examples*: Virtual assistants (Siri), recommendation algorithms (Netflix), or chess-playing programs.\\n  - *Limitation*: They cannot perform tasks outside their programmed scope.\\n\\n- **General (Strong) AI**:\\n  - Hypothetical systems that can understand, learn, and apply knowledge across **any task**, like a human.\\n  - *Status*: Does not yet exist; still a topic of research.\\n\\n- **Superintelligent AI**:\\n  - A theoretical future form surpassing human intelligence in all areas.\\n  - *Note*: Raises ethical and existential questions (often discussed in science fiction and philosophy).\\n\\n---\\n\\n### **Applications of AI**:\\n- **Healthcare**: Diagnosing diseases, drug discovery, and personalized treatment plans.\\n- **Finance**: Fraud detection, algorithmic trading, and risk assessment.\\n- **Transportation**: Self-driving cars and traffic management.\\n- **Entertainment**: Content recommendations (e.g., Netflix, Spotify) and video game AI.\\n- **Manufacturing**: Industrial robots and predictive maintenance.\\n\\n---\\n\\n### **How AI Works (Simplified)**:\\n1. **Data Collection**: Gathering information (e.g., images, text, or sensor data).\\n2. **Training**: Feeding data into algorithms to teach the system patterns and relationships.\\n3. **Decision-Making**: Applying learned patterns to new data to make predictions or decisions.\\n4. **Iteration**: Refining models over time with more data or feedback.\\n\\n---\\n\\n### **Limitations & Challenges**:\\n- **Dependency on Data**: AI systems require vast, high-quality data to function effectively.\\n- **Bias and Fairness**: AI can inherit biases present in training data.\\n- **Explainability**: Some models (e.g., deep neural networks) are \"black boxes,\" making their decision processes hard to interpret.\\n- **Ethical Concerns**: Privacy issues, job displacement, and misuse (e.g., deepfakes or autonomous weapons).\\n\\n---\\n\\n### **Future of AI**:\\n- **Advances in General AI**: Research aims to create systems capable of broader reasoning.\\n- **Ethical Frameworks**: Developing guidelines to ensure responsible AI development and use.\\n- **Integration into Daily Life**: AI is becoming ubiquitous, from smart homes to climate modeling.\\n\\n---\\n\\nIn summary, AI is a transformative technology that empowers machines to mimic human intelligence, but it remains a tool shaped by human design and ethics. Its potential is vast, but its responsible use is critical.', additional_kwargs={}, response_metadata={'token_usage': {'completion_tokens': 1074, 'prompt_tokens': 13, 'total_tokens': 1087, 'completion_time': 2.675935671, 'prompt_time': 0.002882653, 'queue_time': 0.23124004199999998, 'total_time': 2.678818324}, 'model_name': 'qwen-qwq-32b', 'system_fingerprint': 'fp_512a3da6bb', 'finish_reason': 'stop', 'logprobs': None}, id='run-3ff95ee0-6849-44d7-b9e3-228ccedd4732-0', usage_metadata={'input_tokens': 13, 'output_tokens': 1074, 'total_tokens': 1087})"
      ]
     },
     "execution_count": 13,
     "metadata": {},
     "output_type": "execute_result"
    }
   ],
   "source": [
    "llm.invoke(\"What is AI\")"
   ]
  },
  {
   "cell_type": "code",
   "execution_count": 14,
   "id": "b7507d1e",
   "metadata": {},
   "outputs": [],
   "source": [
    "#integrating the tools with LLM\n",
    "llm_with_tools=llm.bind_tools(tools=tools)"
   ]
  },
  {
   "cell_type": "code",
   "execution_count": null,
   "id": "991bcb1c",
   "metadata": {},
   "outputs": [
    {
     "data": {
      "text/plain": [
       "AIMessage(content='', additional_kwargs={'tool_calls': [{'id': 'call_ehmm', 'function': {'arguments': '{\"query\": \"latest AI tools research\"}', 'name': 'arxiv'}, 'type': 'function'}]}, response_metadata={'token_usage': {'completion_tokens': 160, 'prompt_tokens': 357, 'total_tokens': 517, 'completion_time': 0.395833243, 'prompt_time': 0.027574848, 'queue_time': 0.253909771, 'total_time': 0.423408091}, 'model_name': 'qwen-qwq-32b', 'system_fingerprint': 'fp_fbb7e6cc39', 'finish_reason': 'tool_calls', 'logprobs': None}, id='run-c04e73f1-e3fc-4d6b-a828-a35f8b1e3a3f-0', tool_calls=[{'name': 'arxiv', 'args': {'query': 'latest AI tools research'}, 'id': 'call_ehmm', 'type': 'tool_call'}], usage_metadata={'input_tokens': 357, 'output_tokens': 160, 'total_tokens': 517})"
      ]
     },
     "execution_count": 15,
     "metadata": {},
     "output_type": "execute_result"
    }
   ],
   "source": [
    "#execute the LLM with tools\n",
    "llm_with_tools.invoke(\"What is the latest research on AI tool?\")\n",
    "#AI Assistant is ready now can create entrie application in Langraph.Langgraph do specific tasks like search, summarize, and generate text."
   ]
  },
  {
   "cell_type": "code",
   "execution_count": 16,
   "id": "88320bd2",
   "metadata": {},
   "outputs": [
    {
     "data": {
      "text/plain": [
       "AIMessage(content='', additional_kwargs={'tool_calls': [{'id': 'call_yzt7', 'function': {'arguments': '{\"query\": \"quantum computing\"}', 'name': 'arxiv'}, 'type': 'function'}]}, response_metadata={'token_usage': {'completion_tokens': 140, 'prompt_tokens': 357, 'total_tokens': 497, 'completion_time': 0.345506629, 'prompt_time': 0.037663811, 'queue_time': 0.7564323589999999, 'total_time': 0.38317044}, 'model_name': 'qwen-qwq-32b', 'system_fingerprint': 'fp_512a3da6bb', 'finish_reason': 'tool_calls', 'logprobs': None}, id='run-0f28f5e2-a255-4654-ab9f-c728415b0dc1-0', tool_calls=[{'name': 'arxiv', 'args': {'query': 'quantum computing'}, 'id': 'call_yzt7', 'type': 'tool_call'}], usage_metadata={'input_tokens': 357, 'output_tokens': 140, 'total_tokens': 497})"
      ]
     },
     "execution_count": 16,
     "metadata": {},
     "output_type": "execute_result"
    }
   ],
   "source": [
    "llm_with_tools.invoke(\"What is the latest research on quantum computing?\")"
   ]
  },
  {
   "cell_type": "code",
   "execution_count": 17,
   "id": "c01ecd74",
   "metadata": {},
   "outputs": [
    {
     "data": {
      "text/plain": [
       "AIMessage(content='', additional_kwargs={'tool_calls': [{'id': 'call_4q2q', 'function': {'arguments': '{\"query\": \"Machine Learning\"}', 'name': 'wikipedia'}, 'type': 'function'}]}, response_metadata={'token_usage': {'completion_tokens': 484, 'prompt_tokens': 353, 'total_tokens': 837, 'completion_time': 1.21617745, 'prompt_time': 0.046505527, 'queue_time': 0.25059775300000003, 'total_time': 1.2626829769999999}, 'model_name': 'qwen-qwq-32b', 'system_fingerprint': 'fp_a91d9c2cfb', 'finish_reason': 'tool_calls', 'logprobs': None}, id='run-e08b0646-7d79-4e32-b0c5-3460bbfd6b06-0', tool_calls=[{'name': 'wikipedia', 'args': {'query': 'Machine Learning'}, 'id': 'call_4q2q', 'type': 'tool_call'}], usage_metadata={'input_tokens': 353, 'output_tokens': 484, 'total_tokens': 837})"
      ]
     },
     "execution_count": 17,
     "metadata": {},
     "output_type": "execute_result"
    }
   ],
   "source": [
    "llm_with_tools.invoke(\"What is Machine Learning?\")"
   ]
  },
  {
   "cell_type": "code",
   "execution_count": 18,
   "id": "484a6791",
   "metadata": {},
   "outputs": [],
   "source": [
    "#wrokflow\n",
    "#Stateschema\n",
    "from typing_extensions import TypedDict\n",
    "from langchain_core.messages import AnyMessage #Human messages or Ai messages\n",
    "from typing import Annotated #labelling \n",
    "from langgraph.graph.message import add_messages #reduces in langgraph \n"
   ]
  },
  {
   "cell_type": "code",
   "execution_count": 19,
   "id": "e4083299",
   "metadata": {},
   "outputs": [],
   "source": [
    "class State(TypedDict):\n",
    "    messages: Annotated[list[AnyMessage], add_messages] #list of messages\n"
   ]
  },
  {
   "cell_type": "code",
   "execution_count": 20,
   "id": "bc26542b",
   "metadata": {},
   "outputs": [],
   "source": [
    "#Entire Chatbot with Langgraph \n",
    "from IPython.display import Image, display \n",
    "from langgraph.graph import StateGraph, START, END\n",
    "from langgraph.prebuilt import ToolNode\n",
    "from langgraph.prebuilt import tools_condition #TOOLS_CONDITION -->LLM calling tool \n",
    "\n"
   ]
  },
  {
   "cell_type": "code",
   "execution_count": 21,
   "id": "f6057339",
   "metadata": {},
   "outputs": [
    {
     "name": "stdout",
     "output_type": "stream",
     "text": [
      "Requirement already satisfied: pyppeteer in c:\\users\\ali com\\onedrive\\desktop\\langgraph\\venv\\lib\\site-packages (2.0.0)\n",
      "Requirement already satisfied: appdirs<2.0.0,>=1.4.3 in c:\\users\\ali com\\onedrive\\desktop\\langgraph\\venv\\lib\\site-packages (from pyppeteer) (1.4.4)\n",
      "Requirement already satisfied: certifi>=2023 in c:\\users\\ali com\\onedrive\\desktop\\langgraph\\venv\\lib\\site-packages (from pyppeteer) (2025.1.31)\n",
      "Requirement already satisfied: importlib-metadata>=1.4 in c:\\users\\ali com\\onedrive\\desktop\\langgraph\\venv\\lib\\site-packages (from pyppeteer) (8.6.1)\n",
      "Requirement already satisfied: pyee<12.0.0,>=11.0.0 in c:\\users\\ali com\\onedrive\\desktop\\langgraph\\venv\\lib\\site-packages (from pyppeteer) (11.1.1)\n",
      "Requirement already satisfied: tqdm<5.0.0,>=4.42.1 in c:\\users\\ali com\\onedrive\\desktop\\langgraph\\venv\\lib\\site-packages (from pyppeteer) (4.67.1)\n",
      "Requirement already satisfied: urllib3<2.0.0,>=1.25.8 in c:\\users\\ali com\\onedrive\\desktop\\langgraph\\venv\\lib\\site-packages (from pyppeteer) (1.26.20)\n",
      "Requirement already satisfied: websockets<11.0,>=10.0 in c:\\users\\ali com\\onedrive\\desktop\\langgraph\\venv\\lib\\site-packages (from pyppeteer) (10.4)\n",
      "Requirement already satisfied: zipp>=3.20 in c:\\users\\ali com\\onedrive\\desktop\\langgraph\\venv\\lib\\site-packages (from importlib-metadata>=1.4->pyppeteer) (3.21.0)\n",
      "Requirement already satisfied: typing-extensions in c:\\users\\ali com\\onedrive\\desktop\\langgraph\\venv\\lib\\site-packages (from pyee<12.0.0,>=11.0.0->pyppeteer) (4.13.2)\n",
      "Requirement already satisfied: colorama in c:\\users\\ali com\\onedrive\\desktop\\langgraph\\venv\\lib\\site-packages (from tqdm<5.0.0,>=4.42.1->pyppeteer) (0.4.6)\n",
      "Note: you may need to restart the kernel to use updated packages.\n"
     ]
    }
   ],
   "source": [
    "%pip install pyppeteer\n"
   ]
  },
  {
   "cell_type": "code",
   "execution_count": 22,
   "id": "de3768f4",
   "metadata": {},
   "outputs": [
    {
     "data": {
      "image/png": "[encoded data removed]",
      "text/plain": [
       "<IPython.core.display.Image object>"
      ]
     },
     "metadata": {},
     "output_type": "display_data"
    }
   ],
   "source": [
    "#coreect cde\n",
    "from typing_extensions import TypedDict\n",
    "from langchain_core.messages import AnyMessage, HumanMessage\n",
    "from typing import Annotated\n",
    "from langgraph.graph.message import add_messages\n",
    "from langgraph.graph import StateGraph, START, END\n",
    "from langgraph.prebuilt import ToolNode\n",
    "from langgraph.prebuilt import tools_condition\n",
    "from IPython.display import Image, display\n",
    "\n",
    "# 1. State schema\n",
    "class State(TypedDict):\n",
    "    messages: Annotated[list[AnyMessage], add_messages]\n",
    "\n",
    "# 2. Node function\n",
    "def tool_calling_llm(state: State):\n",
    "    response = llm_with_tools.invoke(state[\"messages\"])  # llm with tools\n",
    "    return {\"messages\": state[\"messages\"] + [response]}  # add to existing messages\n",
    "\n",
    "# 3. Build the graph\n",
    "builder = StateGraph(State)\n",
    "\n",
    "# 4. Nodes\n",
    "builder.add_node(\"tool_calling_llm\", tool_calling_llm)\n",
    "builder.add_node(\"tools\", ToolNode(tools))\n",
    "\n",
    "# 5. Edges\n",
    "builder.add_edge(START, \"tool_calling_llm\")\n",
    "builder.add_conditional_edges(\n",
    "    \"tool_calling_llm\", \n",
    "    tools_condition,  # if tool is needed → tools node\n",
    ")\n",
    "builder.add_edge(\"tool_calling_llm\", END)  # if no tool needed → end directly\n",
    "builder.add_edge(\"tools\", END)  # after tool usage → end\n",
    "\n",
    "# 6. Compile\n",
    "graph = builder.compile()\n",
    "\n",
    "# 7. Display the graph\n",
    "display(Image(graph.get_graph().draw_mermaid_png()))\n"
   ]
  },
  {
   "cell_type": "code",
   "execution_count": 23,
   "id": "e6ed3d5a",
   "metadata": {},
   "outputs": [
    {
     "name": "stdout",
     "output_type": "stream",
     "text": [
      "================================\u001b[1m Human Message \u001b[0m=================================\n",
      "\n",
      "1706.03762\n",
      "==================================\u001b[1m Ai Message \u001b[0m==================================\n",
      "Tool Calls:\n",
      "  arxiv (call_qc3a)\n",
      " Call ID: call_qc3a\n",
      "  Args:\n",
      "    query: 1706.03762\n",
      "=================================\u001b[1m Tool Message \u001b[0m=================================\n",
      "Name: arxiv\n",
      "\n",
      "Published: 2023-08-02\n",
      "Title: Attention Is All You Need\n",
      "Authors: Ashish Vaswani, Noam Shazeer, Niki Parmar, Jakob Uszkoreit, Llion Jones, Aidan N. Gomez, Lukasz Kaiser, Illia Polosukhin\n",
      "Summary: The dominant sequence transduction models are based on complex recurrent or\n",
      "convolutional neural networks in an encoder-decoder configuration. The best\n",
      "performing models also connect the encoder and decoder through an attention\n",
      "mechanism. We propose a new simple network architecture, the Transformer, base\n"
     ]
    }
   ],
   "source": [
    "messages=graph.invoke({\"messages\":\"1706.03762\"})\n",
    "for m in messages['messages']:\n",
    "     m.pretty_print()"
   ]
  },
  {
   "cell_type": "code",
   "execution_count": 24,
   "id": "f6c8a8f3",
   "metadata": {},
   "outputs": [
    {
     "name": "stdout",
     "output_type": "stream",
     "text": [
      "================================\u001b[1m Human Message \u001b[0m=================================\n",
      "\n",
      "Hi, My name is sayiqa\n",
      "==================================\u001b[1m Ai Message \u001b[0m==================================\n",
      "\n",
      "Hello Sayiqa! I'm Qwen, a large language model developed by Alibaba Cloud. How can I assist you today? Feel free to ask me any questions or let me know if you need help with anything specific! 😊\n"
     ]
    }
   ],
   "source": [
    "messages=graph.invoke({\"messages\":\"Hi, My name is sayiqa\"})\n",
    "for m in messages['messages']:\n",
    "     m.pretty_print()"
   ]
  },
  {
   "cell_type": "code",
   "execution_count": 27,
   "id": "29977743",
   "metadata": {},
   "outputs": [
    {
     "name": "stdout",
     "output_type": "stream",
     "text": [
      "================================\u001b[1m Human Message \u001b[0m=================================\n",
      "\n",
      "Hi,  please tell me the recent AI News & research paper on quantum computing?\n",
      "==================================\u001b[1m Ai Message \u001b[0m==================================\n",
      "Tool Calls:\n",
      "  tavily_search_results_json (call_cvg4)\n",
      " Call ID: call_cvg4\n",
      "  Args:\n",
      "    query: recent AI news quantum computing\n",
      "  arxiv (call_j7vy)\n",
      " Call ID: call_j7vy\n",
      "  Args:\n",
      "    query: quantum computing AI\n",
      "=================================\u001b[1m Tool Message \u001b[0m=================================\n",
      "Name: tavily_search_results_json\n",
      "\n",
      "[{\"title\": \"The Coming Convergence Of AI And Quantum Computing - Forbes\", \"url\": \"https://www.forbes.com/sites/gilpress/2025/04/08/the-coming-convergence-of-ai-and-quantum-computing/\", \"content\": \"At the GTC AI conference last month, AI leader Nvidia announced the establishment of the Nvidia Accelerated Quantum Research Center. The Boston-based center aims to advance quantum computing research with accelerated computing, including integrating quantum processors with AI-based supercomputing to overcome significant challenges in the quantum computing space. [...] Another European startup, IQM, which sells a 54-qubit full-stack superconducting quantum computer, recently announced it will be integrated into one of the world’s fastest supercomputers in Bologna, Italy. The system will, among other applications, be used to optimize artificial intelligence quantum algorithms. [...] Riding this European momentum, Donostia, Spain-based startup Multiverse Computing, which focuses on quantum AI software solutions, released two new AI compressed models today. Both are Llama models with 60% fewer parameters than the original models, 84% greater energy efficiency, and 40% faster inference, yielding a 50% cost reduction without sacrificing accuracy.\\n\\n‘It’s Imminent’—U.S. Dollar Fed Warning Braces Bitcoin For A BlackRock ‘Megaforce’ Price Shock\", \"score\": 0.81097376}, {\"title\": \"Quantum Computing recent news | AI Business\", \"url\": \"https://aibusiness.com/verticals/quantum-computing\", \"content\": \"Explore the latest news and expert commentary on Quantum Computing, brought to you by the editors of AI Business.\", \"score\": 0.7750779}, {\"title\": \"3 real-world problems that quantum computers could help solve\", \"url\": \"https://blog.google/technology/research/google-quantum-computer-real-world-applications/\", \"content\": \"Related stories\\n\\nCelebrate World Quantum Day with this mesmerizing Doodle\\n\\nGoogle Cloud: the platform for scientific discovery\\n\\nQuantum computing education for global policy leaders\\n\\nThe latest AI news we announced in March\\n\\nInside the launch of FireSat, a system to find wildfires earlier\\n\\nAdvancing healthcare and scientific discovery with AI\\n\\nLet’s stay in touch. Get the latest news from Google in your inbox.\\n\\nFollow Us\", \"score\": 0.7734393}, {\"title\": \"Meet Willow, our state-of-the-art quantum chip - Google Blog\", \"url\": \"https://blog.google/technology/research/google-willow-quantum-chip/\", \"content\": \"Related stories\\n\\nCelebrate World Quantum Day with this mesmerizing Doodle\\n\\n3 real-world problems that quantum computers could help solve\\n\\nGoogle Cloud: the platform for scientific discovery\\n\\nQuantum computing education for global policy leaders\\n\\nThe latest AI news we announced in March\\n\\nInside the launch of FireSat, a system to find wildfires earlier\\n\\nLet’s stay in touch. Get the latest news from Google in your inbox.\\n\\nFollow Us [...] for AI. So quantum computation will be indispensable for collecting training data that’s inaccessible to classical machines, training and optimizing certain learning architectures, and modeling systems where quantum effects are important. This includes helping us discover new medicines, designing more efficient batteries for electric cars, and accelerating progress in fusion and new energy alternatives. Many of these future game-changing applications won’t be feasible on classical computers; [...] My colleagues sometimes ask me why I left the burgeoning field of AI to focus on quantum computing. My answer is that both will prove to be the most transformational technologies of our time, but advanced AI will significantly benefit from access to quantum computing. This is why I named our lab Quantum AI. Quantum algorithms have fundamental scaling laws on their side, as we’re seeing with RCS. There are similar scaling advantages for many foundational computational tasks that are essential\", \"score\": 0.7610953}, {\"title\": \"Quantum Computers News - ScienceDaily\", \"url\": \"https://www.sciencedaily.com/news/computers_math/quantum_computers/\", \"content\": \"Quantum Computers News\\n\\nTop Headlines\\n\\nLatest Headlines\\n\\nEarlier Headlines\\n\\nWednesday, April 2, 2025\\n\\nFriday, March 28, 2025\\n\\nThursday, March 27, 2025\\n\\nWednesday, March 26, 2025\\n\\nTuesday, March 25, 2025\\n\\nFriday, March 21, 2025\\n\\nWednesday, March 19, 2025\\n\\nMonday, March 17, 2025\\n\\nFriday, March 14, 2025\\n\\nThursday, March 13, 2025\\n\\nWednesday, March 12, 2025\\n\\nTuesday, March 11, 2025\\n\\nMonday, March 10, 2025\\n\\nWednesday, March 5, 2025\\n\\nTuesday, March 4, 2025\\n\\nThursday, February 27, 2025 [...] Thursday, January 9, 2025\\n\\nWednesday, January 8, 2025\\n\\nMonday, January 6, 2025\\n\\nFriday, December 20, 2024\\n\\nThursday, December 19, 2024\\n\\nTuesday, December 17, 2024\\n\\nTuesday, December 10, 2024\\n\\nFriday, December 6, 2024\\n\\nWednesday, December 4, 2024\\n\\nMonday, December 2, 2024\\n\\nWednesday, November 27, 2024\\n\\nTuesday, November 26, 2024\\n\\nThursday, November 21, 2024\\n\\nTuesday, November 19, 2024\\n\\nSaturday, November 16, 2024\\n\\nWednesday, November 13, 2024\\n\\nTuesday, November 12, 2024 [...] Monday, November 11, 2024\\n\\nTuesday, November 5, 2024\\n\\nMonday, November 4, 2024\\n\\nThursday, October 31, 2024\\n\\nWednesday, October 30, 2024\\n\\nMonday, October 28, 2024\\n\\nThursday, October 24, 2024\\n\\nThursday, October 17, 2024\\n\\nWednesday, October 16, 2024\\n\\nFriday, October 11, 2024\\n\\nWednesday, October 9, 2024\\n\\nTuesday, October 8, 2024\\n\\nThursday, October 3, 2024\\n\\nTuesday, October 1, 2024\\n\\nMonday, September 30, 2024\\n\\nFriday, September 20, 2024\\n\\nWednesday, September 18, 2024\\n\\nTuesday, September 17, 2024\", \"score\": 0.7366474}]\n",
      "=================================\u001b[1m Tool Message \u001b[0m=================================\n",
      "Name: arxiv\n",
      "\n",
      "Published: 2024-09-23\n",
      "Title: Google Quantum AI's Quest for Error-Corrected Quantum Computers\n",
      "Authors: M. AbuGhanem\n",
      "Summary: Quantum computers stand at the forefront of technological innovation,\n",
      "offering exponential computational speed-ups that challenge classical computing\n",
      "capabilities. At the cutting edge of this transformation is Google Quantum AI,\n",
      "a leader in driving forward the development of practical quantum computers.\n",
      "This article provides a comprehensive review of Google Quantum AI's piv\n"
     ]
    }
   ],
   "source": [
    "messages=graph.invoke({\"messages\":\"Hi,  please tell me the recent AI News & research paper on quantum computing?\"})\n",
    "for m in messages['messages']:\n",
    "     m.pretty_print()"
   ]
  },
  {
   "cell_type": "code",
   "execution_count": null,
   "id": "4c4e8091",
   "metadata": {},
   "outputs": [],
   "source": []
  },
  {
   "cell_type": "code",
   "execution_count": null,
   "id": "c6b2ea4c",
   "metadata": {},
   "outputs": [],
   "source": [
    "#0.62687886"
   ]
  }
 ],
 "metadata": {
  "kernelspec": {
   "display_name": "venv",
   "language": "python",
   "name": "python3"
  },
  "language_info": {
   "codemirror_mode": {
    "name": "ipython",
    "version": 3
   },
   "file_extension": ".py",
   "mimetype": "text/x-python",
   "name": "python",
   "nbconvert_exporter": "python",
   "pygments_lexer": "ipython3",
   "version": "3.13.1"
  }
 },
 "nbformat": 4,
 "nbformat_minor": 5
}
