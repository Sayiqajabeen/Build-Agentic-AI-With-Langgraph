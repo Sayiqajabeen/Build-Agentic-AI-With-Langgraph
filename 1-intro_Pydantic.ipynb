{
 "cells": [
  {
   "cell_type": "code",
   "execution_count": null,
   "id": "31e6ee50",
   "metadata": {},
   "outputs": [],
   "source": [
    "#Pydantic basic\n",
    "#Pydantic models are foundation of data validation in python. \n",
    "#They use python type annotations to deifne the structure and validate data at run time."
   ]
  },
  {
   "cell_type": "code",
   "execution_count": 2,
   "id": "df623722",
   "metadata": {},
   "outputs": [],
   "source": [
    "from pydantic import BaseModel"
   ]
  },
  {
   "cell_type": "code",
   "execution_count": 27,
   "id": "d421716d",
   "metadata": {},
   "outputs": [
    {
     "name": "stdout",
     "output_type": "stream",
     "text": [
      "Person(name='John', age=30, email='sayiqajabeen17@gmail.com')\n"
     ]
    }
   ],
   "source": [
    "from dataclasses import dataclass \n",
    "\n",
    "@dataclass\n",
    "\n",
    "class Person():\n",
    "    name: str\n",
    "    age: int\n",
    "    email: str \n",
    "\n",
    "person = Person(name=\"John\", age=30, email=\"sayiqajabeen17@gmail.com\")\n",
    "print(person)"
   ]
  },
  {
   "cell_type": "code",
   "execution_count": 28,
   "id": "453b19c3",
   "metadata": {},
   "outputs": [
    {
     "name": "stdout",
     "output_type": "stream",
     "text": [
      "Person(name='John', age=30, email=21)\n"
     ]
    }
   ],
   "source": [
    "person = Person(name=\"John\", age=30, email=21)\n",
    "print(person)"
   ]
  },
  {
   "cell_type": "code",
   "execution_count": 22,
   "id": "4fa7279d",
   "metadata": {},
   "outputs": [
    {
     "name": "stdout",
     "output_type": "stream",
     "text": [
      "name='John' age=30 email='sayiqajabeen17@gmail.com'\n"
     ]
    }
   ],
   "source": [
    "class Person(BaseModel):\n",
    "    name: str\n",
    "    age: int\n",
    "    email: str \n",
    "\n",
    "person= Person(name=\"John\", age=30, email=\"sayiqajabeen17@gmail.com\")\n",
    "print(person)"
   ]
  },
  {
   "cell_type": "code",
   "execution_count": null,
   "id": "77e2a8da",
   "metadata": {},
   "outputs": [
    {
     "data": {
      "text/plain": [
       "__main__.person"
      ]
     },
     "execution_count": 4,
     "metadata": {},
     "output_type": "execute_result"
    }
   ],
   "source": [
    "type(person)"
   ]
  },
  {
   "cell_type": "code",
   "execution_count": 24,
   "id": "4ea71bd9",
   "metadata": {},
   "outputs": [
    {
     "ename": "ValidationError",
     "evalue": "1 validation error for Person\nemail\n  Input should be a valid string [type=string_type, input_value=21, input_type=int]\n    For further information visit https://errors.pydantic.dev/2.11/v/string_type",
     "output_type": "error",
     "traceback": [
      "\u001b[31m---------------------------------------------------------------------------\u001b[39m",
      "\u001b[31mValidationError\u001b[39m                           Traceback (most recent call last)",
      "\u001b[36mCell\u001b[39m\u001b[36m \u001b[39m\u001b[32mIn[24]\u001b[39m\u001b[32m, line 1\u001b[39m\n\u001b[32m----> \u001b[39m\u001b[32m1\u001b[39m person1 = \u001b[43mPerson\u001b[49m\u001b[43m(\u001b[49m\u001b[43mname\u001b[49m\u001b[43m=\u001b[49m\u001b[33;43m\"\u001b[39;49m\u001b[33;43mJohn\u001b[39;49m\u001b[33;43m\"\u001b[39;49m\u001b[43m,\u001b[49m\u001b[43m \u001b[49m\u001b[43mage\u001b[49m\u001b[43m=\u001b[49m\u001b[32;43m30\u001b[39;49m\u001b[43m,\u001b[49m\u001b[43m \u001b[49m\u001b[43memail\u001b[49m\u001b[43m=\u001b[49m\u001b[32;43m21\u001b[39;49m\u001b[43m)\u001b[49m\n\u001b[32m      2\u001b[39m \u001b[38;5;28mprint\u001b[39m(person1)\n",
      "\u001b[36mFile \u001b[39m\u001b[32mc:\\Users\\Ali Com\\OneDrive\\Desktop\\Langraph\\venv\\Lib\\site-packages\\pydantic\\main.py:253\u001b[39m, in \u001b[36mBaseModel.__init__\u001b[39m\u001b[34m(self, **data)\u001b[39m\n\u001b[32m    251\u001b[39m \u001b[38;5;66;03m# `__tracebackhide__` tells pytest and some other tools to omit this function from tracebacks\u001b[39;00m\n\u001b[32m    252\u001b[39m __tracebackhide__ = \u001b[38;5;28;01mTrue\u001b[39;00m\n\u001b[32m--> \u001b[39m\u001b[32m253\u001b[39m validated_self = \u001b[38;5;28;43mself\u001b[39;49m\u001b[43m.\u001b[49m\u001b[43m__pydantic_validator__\u001b[49m\u001b[43m.\u001b[49m\u001b[43mvalidate_python\u001b[49m\u001b[43m(\u001b[49m\u001b[43mdata\u001b[49m\u001b[43m,\u001b[49m\u001b[43m \u001b[49m\u001b[43mself_instance\u001b[49m\u001b[43m=\u001b[49m\u001b[38;5;28;43mself\u001b[39;49m\u001b[43m)\u001b[49m\n\u001b[32m    254\u001b[39m \u001b[38;5;28;01mif\u001b[39;00m \u001b[38;5;28mself\u001b[39m \u001b[38;5;129;01mis\u001b[39;00m \u001b[38;5;129;01mnot\u001b[39;00m validated_self:\n\u001b[32m    255\u001b[39m     warnings.warn(\n\u001b[32m    256\u001b[39m         \u001b[33m'\u001b[39m\u001b[33mA custom validator is returning a value other than `self`.\u001b[39m\u001b[38;5;130;01m\\n\u001b[39;00m\u001b[33m'\u001b[39m\n\u001b[32m    257\u001b[39m         \u001b[33m\"\u001b[39m\u001b[33mReturning anything other than `self` from a top level model validator isn\u001b[39m\u001b[33m'\u001b[39m\u001b[33mt supported when validating via `__init__`.\u001b[39m\u001b[38;5;130;01m\\n\u001b[39;00m\u001b[33m\"\u001b[39m\n\u001b[32m    258\u001b[39m         \u001b[33m'\u001b[39m\u001b[33mSee the `model_validator` docs (https://docs.pydantic.dev/latest/concepts/validators/#model-validators) for more details.\u001b[39m\u001b[33m'\u001b[39m,\n\u001b[32m    259\u001b[39m         stacklevel=\u001b[32m2\u001b[39m,\n\u001b[32m    260\u001b[39m     )\n",
      "\u001b[31mValidationError\u001b[39m: 1 validation error for Person\nemail\n  Input should be a valid string [type=string_type, input_value=21, input_type=int]\n    For further information visit https://errors.pydantic.dev/2.11/v/string_type"
     ]
    }
   ],
   "source": [
    "person1 = Person(name=\"John\", age=30, email=21)\n",
    "print(person1)"
   ]
  },
  {
   "cell_type": "code",
   "execution_count": 31,
   "id": "564dca73",
   "metadata": {},
   "outputs": [],
   "source": [
    "#Model with optional fields\n",
    "#Add optional fields using python Optional type:"
   ]
  },
  {
   "cell_type": "markdown",
   "id": "abfe351f",
   "metadata": {},
   "source": []
  },
  {
   "cell_type": "code",
   "execution_count": 32,
   "id": "d2785853",
   "metadata": {},
   "outputs": [],
   "source": [
    "from typing import Optional\n",
    "class Employee(BaseModel):\n",
    "    name: str\n",
    "    id: int\n",
    "    department: str\n",
    "    salary: Optional[float] = None\n",
    "    is_activate:Optional[bool] = True"
   ]
  },
  {
   "cell_type": "code",
   "execution_count": 34,
   "id": "ff8c93ad",
   "metadata": {},
   "outputs": [
    {
     "name": "stdout",
     "output_type": "stream",
     "text": [
      "name='John' id=1 department='HR' salary=None is_activate=True\n"
     ]
    }
   ],
   "source": [
    "#Examples with and without optional fields\n",
    "emp1= Employee(id=1, name=\"John\", department=\"HR\")\n",
    "print(emp1)"
   ]
  },
  {
   "cell_type": "code",
   "execution_count": 36,
   "id": "7ba72992",
   "metadata": {},
   "outputs": [
    {
     "name": "stdout",
     "output_type": "stream",
     "text": [
      "name='Jane' id=2 department='IT' salary=50000.0 is_activate=False\n"
     ]
    }
   ],
   "source": [
    "emp2= Employee(id=2, name=\"Jane\", department=\"IT\", salary=50000, is_activate=False)\n",
    "print(emp2)"
   ]
  },
  {
   "cell_type": "code",
   "execution_count": 37,
   "id": "8acd5fc6",
   "metadata": {},
   "outputs": [],
   "source": [
    "from pydantic import BaseModel\n",
    "from typing import List"
   ]
  },
  {
   "cell_type": "code",
   "execution_count": 38,
   "id": "d81b9041",
   "metadata": {},
   "outputs": [],
   "source": [
    "class Classroom(BaseModel):\n",
    "    room_number: str\n",
    "    students: List[str]\n",
    "    capacity: int \n",
    "\n",
    "    "
   ]
  },
  {
   "cell_type": "code",
   "execution_count": 42,
   "id": "f3a2f6cd",
   "metadata": {},
   "outputs": [
    {
     "name": "stdout",
     "output_type": "stream",
     "text": [
      "room_number='A101' students=['John', 'Jane', 'Doe'] capacity=30\n"
     ]
    }
   ],
   "source": [
    "#create a class \n",
    "classroom =Classroom(\n",
    "    room_number= \"A101\",\n",
    "    students=(\"John\", \"Jane\", \"Doe\"),\n",
    "    capacity= 30\n",
    ")\n",
    "print(classroom)"
   ]
  },
  {
   "cell_type": "code",
   "execution_count": null,
   "id": "59f33f3f",
   "metadata": {},
   "outputs": [
    {
     "name": "stdout",
     "output_type": "stream",
     "text": [
      "Error: 1 validation error for Classroom\n",
      "students.1\n",
      "  Input should be a valid string [type=string_type, input_value=123, input_type=int]\n",
      "    For further information visit https://errors.pydantic.dev/2.11/v/string_type\n"
     ]
    }
   ],
   "source": [
    "try:\n",
    "    invalid_classroom = Classroom(room_number=\"AI\", students=[\"John\",123], capacity=30)\n",
    "except ValueError as e:\n",
    "    print(\"Error:\", e)\n",
    "\n",
    "\n",
    "#error due to pydantic"
   ]
  },
  {
   "cell_type": "code",
   "execution_count": 44,
   "id": "3cc0e1ed",
   "metadata": {},
   "outputs": [
    {
     "name": "stdout",
     "output_type": "stream",
     "text": [
      "name='John Doe' custormer_id=123 address=Address(street='123 Main St', city='New York', zip_code='10001')\n"
     ]
    }
   ],
   "source": [
    "#Model with nested model \n",
    "#Create complex strucutr with nested models:\n",
    "from pydantic import BaseModel\n",
    "\n",
    "class Address(BaseModel):\n",
    "    street: str\n",
    "    city: str\n",
    "    zip_code: str\n",
    "\n",
    "class Customer(BaseModel):\n",
    "    name: str\n",
    "    custormer_id: int\n",
    "    address: Address \n",
    "\n",
    "\n",
    "\n",
    "#create a customer object with nested address\n",
    "customer= Customer(\n",
    "    name=\"John Doe\",\n",
    "    custormer_id=123,\n",
    "    address={\n",
    "        \"street\":\"123 Main St\",\n",
    "        \"city\":\"New York\",\n",
    "        \"zip_code\":\"10001\"\n",
    "    }\n",
    ")\n",
    "print(customer)"
   ]
  },
  {
   "cell_type": "code",
   "execution_count": 48,
   "id": "f50ba714",
   "metadata": {},
   "outputs": [
    {
     "name": "stdout",
     "output_type": "stream",
     "text": [
      "name='Apple' price=21.0 quantity=10\n"
     ]
    }
   ],
   "source": [
    "#Pydantic feilds: Customer and constraints \n",
    "from pydantic import BaseModel, Field\n",
    "class item(BaseModel):\n",
    "    name: str = Field(min_length=2, max_length=50)\n",
    "    price: float = Field(gt=0, le=1000)\n",
    "    quantity: int = Field(ge=0)\n",
    "\n",
    "#valid instance \n",
    "item1 = item(name=\"Apple\", price=21, quantity=10)\n",
    "print(item1)"
   ]
  },
  {
   "cell_type": "code",
   "execution_count": 51,
   "id": "2418c6e1",
   "metadata": {},
   "outputs": [
    {
     "name": "stdout",
     "output_type": "stream",
     "text": [
      "username='sayiqa' email='sayiqa@gmail.com' age=18\n",
      "username='jabeen' email='sayiqa@gmail.com' age=21\n"
     ]
    }
   ],
   "source": [
    "from pydantic import BaseModel, Field\n",
    "\n",
    "class User(BaseModel):\n",
    "    username: str = Field(..., description=\"User's unique username\")\n",
    "    email: str = Field(default_factory=lambda: \"sayiqa@gmail.com\", description=\"User's email address\")\n",
    "    age: int = Field(default=18, description=\"User's age\") \n",
    "\n",
    "#example\n",
    "user = User(username=\"sayiqa\")\n",
    "print(user)\n",
    "\n",
    "user2= User(username=\"jabeen\", email=\"sayiqa@gmail.com\"\n",
    ", age=21)\n",
    "print(user2)"
   ]
  },
  {
   "cell_type": "code",
   "execution_count": 52,
   "id": "0743a9cd",
   "metadata": {},
   "outputs": [
    {
     "name": "stdout",
     "output_type": "stream",
     "text": [
      "{'properties': {'username': {'description': \"User's unique username\", 'title': 'Username', 'type': 'string'}, 'email': {'description': \"User's email address\", 'title': 'Email', 'type': 'string'}, 'age': {'default': 18, 'description': \"User's age\", 'title': 'Age', 'type': 'integer'}}, 'required': ['username'], 'title': 'User', 'type': 'object'}\n"
     ]
    },
    {
     "name": "stderr",
     "output_type": "stream",
     "text": [
      "C:\\Users\\Ali Com\\AppData\\Local\\Temp\\ipykernel_11136\\1336775015.py:1: PydanticDeprecatedSince20: The `schema` method is deprecated; use `model_json_schema` instead. Deprecated in Pydantic V2.0 to be removed in V3.0. See Pydantic V2 Migration Guide at https://errors.pydantic.dev/2.11/migration/\n",
      "  print(user.schema())\n"
     ]
    }
   ],
   "source": [
    "print(user.schema())"
   ]
  },
  {
   "cell_type": "code",
   "execution_count": 53,
   "id": "7bd51e8e",
   "metadata": {},
   "outputs": [
    {
     "name": "stdout",
     "output_type": "stream",
     "text": [
      "{'properties': {'username': {'description': \"User's unique username\", 'title': 'Username', 'type': 'string'}, 'email': {'description': \"User's email address\", 'title': 'Email', 'type': 'string'}, 'age': {'default': 18, 'description': \"User's age\", 'title': 'Age', 'type': 'integer'}}, 'required': ['username'], 'title': 'User', 'type': 'object'}\n"
     ]
    }
   ],
   "source": [
    "print(User.model_json_schema())"
   ]
  },
  {
   "cell_type": "code",
   "execution_count": null,
   "id": "d1a3339b",
   "metadata": {},
   "outputs": [],
   "source": []
  }
 ],
 "metadata": {
  "kernelspec": {
   "display_name": "venv",
   "language": "python",
   "name": "python3"
  },
  "language_info": {
   "codemirror_mode": {
    "name": "ipython",
    "version": 3
   },
   "file_extension": ".py",
   "mimetype": "text/x-python",
   "name": "python",
   "nbconvert_exporter": "python",
   "pygments_lexer": "ipython3",
   "version": "3.13.1"
  }
 },
 "nbformat": 4,
 "nbformat_minor": 5
}
